{
 "cells": [
  {
   "cell_type": "code",
   "execution_count": 1,
   "id": "f7d7e273",
   "metadata": {},
   "outputs": [
    {
     "data": {
      "text/plain": [
       "'35'"
      ]
     },
     "execution_count": 1,
     "metadata": {},
     "output_type": "execute_result"
    }
   ],
   "source": [
    "str(35)"
   ]
  },
  {
   "cell_type": "code",
   "execution_count": 2,
   "id": "4ea0de81",
   "metadata": {},
   "outputs": [
    {
     "data": {
      "text/plain": [
       "'hello world'"
      ]
     },
     "execution_count": 2,
     "metadata": {},
     "output_type": "execute_result"
    }
   ],
   "source": [
    "\"hello world\""
   ]
  },
  {
   "cell_type": "code",
   "execution_count": 3,
   "id": "cb626a45",
   "metadata": {},
   "outputs": [],
   "source": [
    "name = \"drishti pandita\""
   ]
  },
  {
   "cell_type": "code",
   "execution_count": 4,
   "id": "e0815ad2",
   "metadata": {},
   "outputs": [
    {
     "name": "stdout",
     "output_type": "stream",
     "text": [
      "s\n"
     ]
    }
   ],
   "source": [
    "print(name[3])"
   ]
  },
  {
   "cell_type": "code",
   "execution_count": 5,
   "id": "39e4a4a3",
   "metadata": {},
   "outputs": [
    {
     "name": "stdout",
     "output_type": "stream",
     "text": [
      "a\n"
     ]
    }
   ],
   "source": [
    "name = \"drishti pandita\"\n",
    "print(name[-1])"
   ]
  },
  {
   "cell_type": "code",
   "execution_count": 6,
   "id": "0029acb8",
   "metadata": {},
   "outputs": [
    {
     "name": "stdout",
     "output_type": "stream",
     "text": [
      "drishti p\n"
     ]
    }
   ],
   "source": [
    "name = \"drishti pandita\"\n",
    "print(name[0:9])"
   ]
  },
  {
   "cell_type": "code",
   "execution_count": 7,
   "id": "329947de",
   "metadata": {},
   "outputs": [
    {
     "name": "stdout",
     "output_type": "stream",
     "text": [
      "dihipnia\n"
     ]
    }
   ],
   "source": [
    "name = \"drishti pandita\"\n",
    "print(name[::2])"
   ]
  },
  {
   "cell_type": "code",
   "execution_count": 9,
   "id": "07739bce",
   "metadata": {
    "scrolled": true
   },
   "outputs": [
    {
     "name": "stdout",
     "output_type": "stream",
     "text": [
      "dih\n"
     ]
    }
   ],
   "source": [
    "name = \"drishti pandita\"\n",
    "print(name[0:5:2])"
   ]
  },
  {
   "cell_type": "code",
   "execution_count": 15,
   "id": "b31fb941",
   "metadata": {},
   "outputs": [
    {
     "name": "stdout",
     "output_type": "stream",
     "text": [
      "drishti pandita is my name.\n",
      "drishti pandita drishti pandita drishti pandita \n"
     ]
    }
   ],
   "source": [
    "name = \"drishti pandita \"\n",
    "string = name + \"is my name.\"\n",
    "print(string)\n",
    "names = 3*name\n",
    "print(names)"
   ]
  },
  {
   "cell_type": "code",
   "execution_count": 18,
   "id": "dee306c2",
   "metadata": {},
   "outputs": [
    {
     "name": "stdout",
     "output_type": "stream",
     "text": [
      "RAM\n",
      "ram\n"
     ]
    }
   ],
   "source": [
    "a = \"ram\"\n",
    "b = a.upper()\n",
    "print(b)\n",
    "c= b.lower()\n",
    "print(c)"
   ]
  },
  {
   "cell_type": "code",
   "execution_count": 20,
   "id": "0f6d7872",
   "metadata": {},
   "outputs": [
    {
     "name": "stdout",
     "output_type": "stream",
     "text": [
      "3\n"
     ]
    }
   ],
   "source": [
    "a = \"i love myself a lot\"\n",
    "b = a.find(\"ove\")\n",
    "print(b)"
   ]
  },
  {
   "cell_type": "code",
   "execution_count": null,
   "id": "de1c3bd5",
   "metadata": {},
   "outputs": [],
   "source": []
  }
 ],
 "metadata": {
  "kernelspec": {
   "display_name": "Python 3 (ipykernel)",
   "language": "python",
   "name": "python3"
  },
  "language_info": {
   "codemirror_mode": {
    "name": "ipython",
    "version": 3
   },
   "file_extension": ".py",
   "mimetype": "text/x-python",
   "name": "python",
   "nbconvert_exporter": "python",
   "pygments_lexer": "ipython3",
   "version": "3.11.3"
  }
 },
 "nbformat": 4,
 "nbformat_minor": 5
}
