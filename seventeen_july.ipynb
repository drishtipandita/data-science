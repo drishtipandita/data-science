{
 "cells": [
  {
   "cell_type": "code",
   "execution_count": 5,
   "id": "d787e6a5",
   "metadata": {},
   "outputs": [
    {
     "name": "stdout",
     "output_type": "stream",
     "text": [
      "(23, 42, 52, 55, 53, 56, 13, 62, 'drishti', 'bhavesh', 'ankur')\n"
     ]
    }
   ],
   "source": [
    "ratings = (23, 42, 52, 55, 53,56, 13, 62)\n",
    "name = (\"drishti\", \"bhavesh\", \"ankur\")\n",
    "name_ratings = ratings + name \n",
    "print(name_ratings)\n",
    "additional = name_ratings + (\"hello\", 2, \"world\")"
   ]
  },
  {
   "cell_type": "code",
   "execution_count": 8,
   "id": "d1e886a7",
   "metadata": {},
   "outputs": [
    {
     "name": "stdout",
     "output_type": "stream",
     "text": [
      "(2, 3, 4)\n",
      "5\n"
     ]
    }
   ],
   "source": [
    "f= (1,2,3,4,5)\n",
    "print(f[1:4])\n",
    "b = len(f)\n",
    "print(b)"
   ]
  },
  {
   "cell_type": "code",
   "execution_count": 10,
   "id": "e3d2c554",
   "metadata": {},
   "outputs": [
    {
     "name": "stdout",
     "output_type": "stream",
     "text": [
      "[2, 12, 22, 23, 32, 42, 43, 63]\n"
     ]
    }
   ],
   "source": [
    "ratings = (12,43,42,63,23,2,22,32)\n",
    "ratingsorted = sorted(ratings)\n",
    "print(ratingsorted)"
   ]
  },
  {
   "cell_type": "code",
   "execution_count": 11,
   "id": "0868e2b5",
   "metadata": {},
   "outputs": [
    {
     "name": "stdout",
     "output_type": "stream",
     "text": [
      "(42, (44, 23, 12), 'abc')\n"
     ]
    }
   ],
   "source": [
    "tuple = (12, 312, (42,42), (42,(44,23,12),\"abc\"))\n",
    "print(tuple[3])"
   ]
  },
  {
   "cell_type": "code",
   "execution_count": 12,
   "id": "87910507",
   "metadata": {},
   "outputs": [
    {
     "name": "stdout",
     "output_type": "stream",
     "text": [
      "abc\n"
     ]
    }
   ],
   "source": [
    "print(tuple[3][2])"
   ]
  },
  {
   "cell_type": "code",
   "execution_count": 13,
   "id": "b5c67efb",
   "metadata": {},
   "outputs": [
    {
     "name": "stdout",
     "output_type": "stream",
     "text": [
      "[['director'], 'pandita', 'business']\n"
     ]
    }
   ],
   "source": [
    "a = [\"drishti\", \"pandita\", \"business\"]\n",
    "a[0] = [\"director\"]\n",
    "print(a)"
   ]
  },
  {
   "cell_type": "code",
   "execution_count": 14,
   "id": "26d14a91",
   "metadata": {},
   "outputs": [
    {
     "name": "stdout",
     "output_type": "stream",
     "text": [
      "[['director'], 'pandita']\n"
     ]
    }
   ],
   "source": [
    "del(a[2])\n",
    "print(a)"
   ]
  },
  {
   "cell_type": "code",
   "execution_count": 15,
   "id": "7024e6b3",
   "metadata": {},
   "outputs": [
    {
     "data": {
      "text/plain": [
       "['drishti', 'pandita']"
      ]
     },
     "execution_count": 15,
     "metadata": {},
     "output_type": "execute_result"
    }
   ],
   "source": [
    "a = \"drishti pandita\"\n",
    "a.split()"
   ]
  },
  {
   "cell_type": "code",
   "execution_count": 18,
   "id": "bd91a80d",
   "metadata": {},
   "outputs": [
    {
     "data": {
      "text/plain": [
       "['1', '2', '3', '4']"
      ]
     },
     "execution_count": 18,
     "metadata": {},
     "output_type": "execute_result"
    }
   ],
   "source": [
    "a = [3,24,42, ]\n",
    "\"1,2,3,4\".split(\",\")"
   ]
  },
  {
   "cell_type": "code",
   "execution_count": 31,
   "id": "0d093f6d",
   "metadata": {},
   "outputs": [
    {
     "name": "stdout",
     "output_type": "stream",
     "text": [
      "[42, 24, 21]\n",
      "[23, 243, 21]\n"
     ]
    }
   ],
   "source": [
    "a = [23,243,21]\n",
    "c = a[:]\n",
    "\n",
    "a = [42,24,21]\n",
    "\n",
    "b = a\n",
    "print(b)\n",
    "print(c)"
   ]
  },
  {
   "cell_type": "code",
   "execution_count": null,
   "id": "22f47be3",
   "metadata": {},
   "outputs": [],
   "source": [
    "\n"
   ]
  }
 ],
 "metadata": {
  "kernelspec": {
   "display_name": "Python 3 (ipykernel)",
   "language": "python",
   "name": "python3"
  },
  "language_info": {
   "codemirror_mode": {
    "name": "ipython",
    "version": 3
   },
   "file_extension": ".py",
   "mimetype": "text/x-python",
   "name": "python",
   "nbconvert_exporter": "python",
   "pygments_lexer": "ipython3",
   "version": "3.11.3"
  }
 },
 "nbformat": 4,
 "nbformat_minor": 5
}
